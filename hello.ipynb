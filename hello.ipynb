{
 "cells": [
  {
   "cell_type": "code",
   "execution_count": 2,
   "metadata": {},
   "outputs": [],
   "source": [
    "from qdrant_client import QdrantClient\n",
    "from qdrant_client.http import models\n",
    "from qdrant_client.http.models import CollectionStatus\n",
    "from sentence_transformers import SentenceTransformer\n",
    "import pandas as pd\n",
    "import json"
   ]
  },
  {
   "cell_type": "code",
   "execution_count": 3,
   "metadata": {},
   "outputs": [],
   "source": [
    "encoder = SentenceTransformer(\"all-MiniLM-L6-v2\")\n"
   ]
  },
  {
   "cell_type": "code",
   "execution_count": 4,
   "metadata": {},
   "outputs": [],
   "source": [
    "documents = [\n",
    "    {\n",
    "        \"name\": \"The Time Machine\",\n",
    "        \"description\": \"A man travels through time and witnesses the evolution of humanity.\",\n",
    "        \"author\": \"H.G. Wells\",\n",
    "        \"year\": 1895,\n",
    "    },\n",
    "    {\n",
    "        \"name\": \"Ender's Game\",\n",
    "        \"description\": \"A young boy is trained to become a military leader in a war against an alien race.\",\n",
    "        \"author\": \"Orson Scott Card\",\n",
    "        \"year\": 1985,\n",
    "    },\n",
    "    {\n",
    "        \"name\": \"Brave New World\",\n",
    "        \"description\": \"A dystopian society where people are genetically engineered and conditioned to conform to a strict social hierarchy.\",\n",
    "        \"author\": \"Aldous Huxley\",\n",
    "        \"year\": 1932,\n",
    "    },\n",
    "    {\n",
    "        \"name\": \"The Hitchhiker's Guide to the Galaxy\",\n",
    "        \"description\": \"A comedic science fiction series following the misadventures of an unwitting human and his alien friend.\",\n",
    "        \"author\": \"Douglas Adams\",\n",
    "        \"year\": 1979,\n",
    "    },\n",
    "    {\n",
    "        \"name\": \"Dune\",\n",
    "        \"description\": \"A desert planet is the site of political intrigue and power struggles.\",\n",
    "        \"author\": \"Frank Herbert\",\n",
    "        \"year\": 1965,\n",
    "    },\n",
    "    {\n",
    "        \"name\": \"Foundation\",\n",
    "        \"description\": \"A mathematician develops a science to predict the future of humanity and works to save civilization from collapse.\",\n",
    "        \"author\": \"Isaac Asimov\",\n",
    "        \"year\": 1951,\n",
    "    },\n",
    "    {\n",
    "        \"name\": \"Snow Crash\",\n",
    "        \"description\": \"A futuristic world where the internet has evolved into a virtual reality metaverse.\",\n",
    "        \"author\": \"Neal Stephenson\",\n",
    "        \"year\": 1992,\n",
    "    },\n",
    "    {\n",
    "        \"name\": \"Neuromancer\",\n",
    "        \"description\": \"A hacker is hired to pull off a near-impossible hack and gets pulled into a web of intrigue.\",\n",
    "        \"author\": \"William Gibson\",\n",
    "        \"year\": 1984,\n",
    "    },\n",
    "    {\n",
    "        \"name\": \"The War of the Worlds\",\n",
    "        \"description\": \"A Martian invasion of Earth throws humanity into chaos.\",\n",
    "        \"author\": \"H.G. Wells\",\n",
    "        \"year\": 1898,\n",
    "    },\n",
    "    {\n",
    "        \"name\": \"The Hunger Games\",\n",
    "        \"description\": \"A dystopian society where teenagers are forced to fight to the death in a televised spectacle.\",\n",
    "        \"author\": \"Suzanne Collins\",\n",
    "        \"year\": 2008,\n",
    "    },\n",
    "    {\n",
    "        \"name\": \"The Andromeda Strain\",\n",
    "        \"description\": \"A deadly virus from outer space threatens to wipe out humanity.\",\n",
    "        \"author\": \"Michael Crichton\",\n",
    "        \"year\": 1969,\n",
    "    },\n",
    "    {\n",
    "        \"name\": \"The Left Hand of Darkness\",\n",
    "        \"description\": \"A human ambassador is sent to a planet where the inhabitants are genderless and can change gender at will.\",\n",
    "        \"author\": \"Ursula K. Le Guin\",\n",
    "        \"year\": 1969,\n",
    "    },\n",
    "    {\n",
    "        \"name\": \"The Three-Body Problem\",\n",
    "        \"description\": \"Humans encounter an alien civilization that lives in a dying system.\",\n",
    "        \"author\": \"Liu Cixin\",\n",
    "        \"year\": 2008,\n",
    "    },\n",
    "]"
   ]
  },
  {
   "cell_type": "code",
   "execution_count": 12,
   "metadata": {},
   "outputs": [
    {
     "name": "stdout",
     "output_type": "stream",
     "text": [
      "This Product contains Garlic Oil that is known to help proper digestion, maintain proper cholesterol levels, support cardiovascular and also build immunity.  For Beauty tips, tricks & more visit https://bigbasket.blog/\n"
     ]
    }
   ],
   "source": [
    "# df = pd.read_csv('small.csv')\n",
    "df = pd.read_csv(\"bigBasketProducts.csv\")\n",
    "# print(df)\n",
    "json_data = df.to_json(orient=\"records\")\n",
    "# # print(json_data)\n",
    "parsed_data = json.loads(json_data)\n",
    "# print(parsed_data)\n",
    "for idx, doc in enumerate(parsed_data):\n",
    "    if doc[\"description\"] is None:\n",
    "        # print(doc)\n",
    "        doc[\"description\"] = doc[\"category\"] +\" \" + doc[\"sub_category\"]\n",
    "\n",
    "# for idx, doc in enumerate(parsed_data):\n",
    "#     print(doc)\n",
    "print(parsed_data[0])"
   ]
  },
  {
   "cell_type": "code",
   "execution_count": 6,
   "metadata": {},
   "outputs": [],
   "source": [
    "qdrant = QdrantClient(\":memory:\")"
   ]
  },
  {
   "cell_type": "code",
   "execution_count": 7,
   "metadata": {},
   "outputs": [
    {
     "data": {
      "text/plain": [
       "True"
      ]
     },
     "execution_count": 7,
     "metadata": {},
     "output_type": "execute_result"
    }
   ],
   "source": [
    "qdrant.recreate_collection(\n",
    "    collection_name=\"my_books\",\n",
    "    vectors_config=models.VectorParams(\n",
    "        size=encoder.get_sentence_embedding_dimension(),\n",
    "        distance=models.Distance.COSINE,\n",
    "    ),\n",
    ")"
   ]
  },
  {
   "cell_type": "code",
   "execution_count": 8,
   "metadata": {},
   "outputs": [],
   "source": [
    "qdrant.upload_records(\n",
    "    collection_name=\"my_books\",\n",
    "    records=[\n",
    "        models.Record(\n",
    "            id=idx, vector=encoder.encode(doc[\"description\"]).tolist(), payload=doc\n",
    "        )\n",
    "        for idx, doc in enumerate(parsed_data)\n",
    "    ],\n",
    ")"
   ]
  },
  {
   "cell_type": "code",
   "execution_count": 21,
   "metadata": {},
   "outputs": [
    {
     "name": "stdout",
     "output_type": "stream",
     "text": [
      "id=17511 version=0 score=0.7192652832084832 payload={'index': 17512, 'product': 'Tuna Sandwich Flakes In Oil With Red Chili', 'category': 'Eggs, Meat & Fish', 'sub_category': 'Fish & Seafood', 'brand': 'Golden Prize', 'sale_price': 156.75, 'market_price': 165.0, 'type': 'Canned Seafood', 'rating': None, 'description': 'Eggs, Meat & Fish Fish & Seafood'} vector=None\n",
      "id=20895 version=0 score=0.7192652832084832 payload={'index': 20896, 'product': 'Tuna Flakes - in Soya Bean Oil', 'category': 'Eggs, Meat & Fish', 'sub_category': 'Fish & Seafood', 'brand': 'Golden Prize', 'sale_price': 147.25, 'market_price': 155.0, 'type': 'Canned Seafood', 'rating': None, 'description': 'Eggs, Meat & Fish Fish & Seafood'} vector=None\n",
      "id=23728 version=0 score=0.7192652832084832 payload={'index': 23729, 'product': 'Smoked Pink Salmon Fillet - Wild Alaskan, In Oil', 'category': 'Eggs, Meat & Fish', 'sub_category': 'Fish & Seafood', 'brand': 'Golden Prize', 'sale_price': 308.75, 'market_price': 325.0, 'type': 'Canned Seafood', 'rating': None, 'description': 'Eggs, Meat & Fish Fish & Seafood'} vector=None\n",
      "id=18662 version=0 score=0.7192652832084832 payload={'index': 18663, 'product': 'Pink Salmon Fillet - Wild Alaskan, In Oil', 'category': 'Eggs, Meat & Fish', 'sub_category': 'Fish & Seafood', 'brand': 'Golden Prize', 'sale_price': 308.75, 'market_price': 325.0, 'type': 'Canned Seafood', 'rating': None, 'description': 'Eggs, Meat & Fish Fish & Seafood'} vector=None\n",
      "id=4250 version=0 score=0.7192652832084832 payload={'index': 4251, 'product': 'Tuna Spread In Mayonnaise', 'category': 'Eggs, Meat & Fish', 'sub_category': 'Fish & Seafood', 'brand': 'Golden Prize', 'sale_price': 185.25, 'market_price': 195.0, 'type': 'Canned Seafood', 'rating': None, 'description': 'Eggs, Meat & Fish Fish & Seafood'} vector=None\n"
     ]
    }
   ],
   "source": [
    "hits = qdrant.search(\n",
    "    collection_name=\"my_books\",\n",
    "    query_vector=encoder.encode(\"seafood\").tolist(),\n",
    "    limit=5,\n",
    ")\n",
    "for hit in hits:\n",
    "    print(hit)"
   ]
  },
  {
   "cell_type": "code",
   "execution_count": 14,
   "metadata": {},
   "outputs": [
    {
     "name": "stdout",
     "output_type": "stream",
     "text": [
      "Missing values per column:\n",
      "index              0\n",
      "product            1\n",
      "category           0\n",
      "sub_category       0\n",
      "brand              1\n",
      "sale_price         0\n",
      "market_price       0\n",
      "type               0\n",
      "rating          8626\n",
      "description      115\n",
      "dtype: int64\n"
     ]
    }
   ],
   "source": [
    "DF = pd.read_csv(\"bigBasketProducts.csv\")\n",
    "# Check for missing values in each column\n",
    "missing_values = DF.isnull().sum()\n",
    "\n",
    "# Display the count of missing values for each column\n",
    "print(\"Missing values per column:\")\n",
    "print(missing_values)"
   ]
  },
  {
   "cell_type": "code",
   "execution_count": 54,
   "metadata": {},
   "outputs": [],
   "source": [
    "# # Check if any row has missing values\n",
    "# rows_with_missing_values = DF[DF.isnull().any(axis=1)]\n",
    "\n",
    "# # Display the rows with missing values\n",
    "# print(\"\\nRows with missing values:\")\n",
    "# print(rows_with_missing_values)"
   ]
  },
  {
   "cell_type": "code",
   "execution_count": 24,
   "metadata": {},
   "outputs": [
    {
     "name": "stdout",
     "output_type": "stream",
     "text": [
      "Index: 5 and Name: HEHE\n"
     ]
    }
   ],
   "source": [
    "index = 5\n",
    "name = \"HEHE\"\n",
    "vector = f\"Index: {index} and Name: {name}\"\n",
    "print(vector)"
   ]
  },
  {
   "cell_type": "code",
   "execution_count": null,
   "metadata": {},
   "outputs": [],
   "source": []
  }
 ],
 "metadata": {
  "kernelspec": {
   "display_name": "chaabi",
   "language": "python",
   "name": "python3"
  },
  "language_info": {
   "codemirror_mode": {
    "name": "ipython",
    "version": 3
   },
   "file_extension": ".py",
   "mimetype": "text/x-python",
   "name": "python",
   "nbconvert_exporter": "python",
   "pygments_lexer": "ipython3",
   "version": "3.11.5"
  }
 },
 "nbformat": 4,
 "nbformat_minor": 2
}
